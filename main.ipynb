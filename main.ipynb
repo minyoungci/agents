{
 "cells": [
  {
   "cell_type": "code",
   "execution_count": 1,
   "id": "6d7f2f74",
   "metadata": {},
   "outputs": [],
   "source": [
    "import openai \n",
    "import os \n",
    "\n",
    "client = openai.OpenAI(api_key=os.getenv(\"OPENAI_API_KEY\"))"
   ]
  },
  {
   "cell_type": "code",
   "execution_count": 2,
   "id": "7fabd148",
   "metadata": {},
   "outputs": [
    {
     "data": {
      "text/plain": [
       "ChatCompletion(id='chatcmpl-CLrIqf3AJwm2kRjPRie3ZQ4p7qFPW', choices=[Choice(finish_reason='stop', index=0, logprobs=None, message=ChatCompletionMessage(content='Paris.', refusal=None, role='assistant', annotations=[], audio=None, function_call=None, tool_calls=None)), Choice(finish_reason='stop', index=1, logprobs=None, message=ChatCompletionMessage(content='Paris. If you’d like, I can share a bit more about the city.', refusal=None, role='assistant', annotations=[], audio=None, function_call=None, tool_calls=None)), Choice(finish_reason='stop', index=2, logprobs=None, message=ChatCompletionMessage(content='Paris', refusal=None, role='assistant', annotations=[], audio=None, function_call=None, tool_calls=None)), Choice(finish_reason='stop', index=3, logprobs=None, message=ChatCompletionMessage(content='Paris.', refusal=None, role='assistant', annotations=[], audio=None, function_call=None, tool_calls=None)), Choice(finish_reason='stop', index=4, logprobs=None, message=ChatCompletionMessage(content='Paris is the capital of France. Would you like a few quick facts about the city?', refusal=None, role='assistant', annotations=[], audio=None, function_call=None, tool_calls=None)), Choice(finish_reason='stop', index=5, logprobs=None, message=ChatCompletionMessage(content='Paris', refusal=None, role='assistant', annotations=[], audio=None, function_call=None, tool_calls=None)), Choice(finish_reason='stop', index=6, logprobs=None, message=ChatCompletionMessage(content='Paris', refusal=None, role='assistant', annotations=[], audio=None, function_call=None, tool_calls=None)), Choice(finish_reason='stop', index=7, logprobs=None, message=ChatCompletionMessage(content='Paris.\\n\\nWould you like a bit more detail about Paris (location, population, etc.)?', refusal=None, role='assistant', annotations=[], audio=None, function_call=None, tool_calls=None))], created=1759325820, model='gpt-5-nano-2025-08-07', object='chat.completion', service_tier='default', system_fingerprint=None, usage=CompletionUsage(completion_tokens=1413, prompt_tokens=13, total_tokens=1426, completion_tokens_details=CompletionTokensDetails(accepted_prediction_tokens=0, audio_tokens=0, reasoning_tokens=1280, rejected_prediction_tokens=0), prompt_tokens_details=PromptTokensDetails(audio_tokens=0, cached_tokens=0)))"
      ]
     },
     "execution_count": 2,
     "metadata": {},
     "output_type": "execute_result"
    }
   ],
   "source": [
    "response = client.chat.completions.create(\n",
    "    model=\"gpt-5-nano\",\n",
    "    n = 8,\n",
    "    messages=[\n",
    "        {\n",
    "            \"role\": \"user\",\n",
    "            \"content\": \"What is the capital of France?\"\n",
    "        }\n",
    "    ]\n",
    ")\n",
    "\n",
    "response"
   ]
  },
  {
   "cell_type": "code",
   "execution_count": 3,
   "id": "0ef44a0a",
   "metadata": {},
   "outputs": [
    {
     "name": "stdout",
     "output_type": "stream",
     "text": [
      "Choice(finish_reason='stop', index=0, logprobs=None, message=ChatCompletionMessage(content='Paris.', refusal=None, role='assistant', annotations=[], audio=None, function_call=None, tool_calls=None))\n",
      "Choice(finish_reason='stop', index=1, logprobs=None, message=ChatCompletionMessage(content='Paris. If you’d like, I can share a bit more about the city.', refusal=None, role='assistant', annotations=[], audio=None, function_call=None, tool_calls=None))\n",
      "Choice(finish_reason='stop', index=2, logprobs=None, message=ChatCompletionMessage(content='Paris', refusal=None, role='assistant', annotations=[], audio=None, function_call=None, tool_calls=None))\n",
      "Choice(finish_reason='stop', index=3, logprobs=None, message=ChatCompletionMessage(content='Paris.', refusal=None, role='assistant', annotations=[], audio=None, function_call=None, tool_calls=None))\n",
      "Choice(finish_reason='stop', index=4, logprobs=None, message=ChatCompletionMessage(content='Paris is the capital of France. Would you like a few quick facts about the city?', refusal=None, role='assistant', annotations=[], audio=None, function_call=None, tool_calls=None))\n",
      "Choice(finish_reason='stop', index=5, logprobs=None, message=ChatCompletionMessage(content='Paris', refusal=None, role='assistant', annotations=[], audio=None, function_call=None, tool_calls=None))\n",
      "Choice(finish_reason='stop', index=6, logprobs=None, message=ChatCompletionMessage(content='Paris', refusal=None, role='assistant', annotations=[], audio=None, function_call=None, tool_calls=None))\n",
      "Choice(finish_reason='stop', index=7, logprobs=None, message=ChatCompletionMessage(content='Paris.\\n\\nWould you like a bit more detail about Paris (location, population, etc.)?', refusal=None, role='assistant', annotations=[], audio=None, function_call=None, tool_calls=None))\n"
     ]
    }
   ],
   "source": [
    "for choice in response.choices:\n",
    "    print(choice)"
   ]
  },
  {
   "cell_type": "code",
   "execution_count": 4,
   "id": "c66951d0",
   "metadata": {},
   "outputs": [
    {
     "name": "stdout",
     "output_type": "stream",
     "text": [
      "Paris.\n"
     ]
    }
   ],
   "source": [
    "message = response.choices[0].message.content\n",
    "print(message)"
   ]
  },
  {
   "cell_type": "code",
   "execution_count": null,
   "id": "b658333f",
   "metadata": {},
   "outputs": [],
   "source": []
  }
 ],
 "metadata": {
  "kernelspec": {
   "display_name": "agent-1",
   "language": "python",
   "name": "python3"
  },
  "language_info": {
   "codemirror_mode": {
    "name": "ipython",
    "version": 3
   },
   "file_extension": ".py",
   "mimetype": "text/x-python",
   "name": "python",
   "nbconvert_exporter": "python",
   "pygments_lexer": "ipython3",
   "version": "3.12.7"
  }
 },
 "nbformat": 4,
 "nbformat_minor": 5
}
